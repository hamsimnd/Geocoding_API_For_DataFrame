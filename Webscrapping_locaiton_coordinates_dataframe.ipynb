{
 "cells": [
  {
   "cell_type": "code",
   "execution_count": null,
   "id": "6f4c84ce-74a0-4dc8-becd-38641bf6de81",
   "metadata": {},
   "outputs": [],
   "source": [
    "\"\"\"\n",
    "Python script for batch geocoding of addresses using the Google Geocoding API.\n",
    "This script allows for custom office lists of addresses to be geocoded for free by pausing when the \n",
    "geocoder hits the free rate limit set by Google (2500 per day).  \n",
    "Author : Merve Nur Özdemir\n",
    "10.2022\n",
    "\"\"\""
   ]
  },
  {
   "cell_type": "code",
   "execution_count": 95,
   "id": "907684da-3081-4ffa-b11c-8cde4e415a8c",
   "metadata": {},
   "outputs": [],
   "source": [
    "#------------------ CONFIGURATION -------------------------------\n",
    "\n",
    "# Set your Google API key here. \n",
    "# Even if using the free 2500 queries a day, its worth getting an API key since the rate limit is 50 / second.\n",
    "# With API_KEY = None, you will run into a 2 second delay every 10 requests or so.\n",
    "# With a \"Google Maps Geocoding API\" key from https://console.developers.google.com/apis/, \n",
    "# the daily limit will be 2500, but at a much faster rate."
   ]
  },
  {
   "cell_type": "markdown",
   "id": "33746dfa-073a-4be4-98cb-1df1a3c6bb20",
   "metadata": {
    "tags": []
   },
   "source": [
    "### You need to install \"request\" \n",
    "pip install requests\n"
   ]
  },
  {
   "cell_type": "code",
   "execution_count": 3,
   "id": "3d98483e-aac4-4b97-ba84-e3c8a57de0eb",
   "metadata": {},
   "outputs": [],
   "source": [
    "### Requirements\n",
    "import pandas as pd\n",
    "import requests\n",
    "import json"
   ]
  },
  {
   "cell_type": "code",
   "execution_count": 96,
   "id": "5b711ae6-87f3-4c7e-847e-2ee580d37575",
   "metadata": {},
   "outputs": [
    {
     "data": {
      "text/html": [
       "<div>\n",
       "<style scoped>\n",
       "    .dataframe tbody tr th:only-of-type {\n",
       "        vertical-align: middle;\n",
       "    }\n",
       "\n",
       "    .dataframe tbody tr th {\n",
       "        vertical-align: top;\n",
       "    }\n",
       "\n",
       "    .dataframe thead th {\n",
       "        text-align: right;\n",
       "    }\n",
       "</style>\n",
       "<table border=\"1\" class=\"dataframe\">\n",
       "  <thead>\n",
       "    <tr style=\"text-align: right;\">\n",
       "      <th></th>\n",
       "      <th>Country</th>\n",
       "      <th>Reference Code</th>\n",
       "      <th>CustomsOfficeUsualName</th>\n",
       "      <th>City</th>\n",
       "      <th>StreetAndNumber</th>\n",
       "      <th>Union</th>\n",
       "      <th>CustomsOfficeUsualNameSorgu</th>\n",
       "    </tr>\n",
       "  </thead>\n",
       "  <tbody>\n",
       "    <tr>\n",
       "      <th>0</th>\n",
       "      <td>Andorra</td>\n",
       "      <td>AD000001</td>\n",
       "      <td>CUSTOMS OFFICE SANT JULIÀ DE LÒRIA</td>\n",
       "      <td>SANT JULIÀ DE LÒRIA</td>\n",
       "      <td>RIU RUNER BORDER</td>\n",
       "      <td>CUSTOMS OFFICE SANT JULIÀ DE LÒRIA,SANT JULIÀ ...</td>\n",
       "      <td>Andorra+CUSTOMS+OFFICE+SANT+JULIÀ+DE+LÒRIA+RIU...</td>\n",
       "    </tr>\n",
       "    <tr>\n",
       "      <th>1</th>\n",
       "      <td>Andorra</td>\n",
       "      <td>AD000001</td>\n",
       "      <td>ADUANA DE ST. JULIÀ DE LÒRIA</td>\n",
       "      <td>SANT JULIÀ DE LÒRIA</td>\n",
       "      <td>FRONTERA RIU RUNER</td>\n",
       "      <td>ADUANA DE ST. JULIÀ DE LÒRIA,SANT JULIÀ DE LÒR...</td>\n",
       "      <td>Andorra+ADUANA+DE+ST.+JULIÀ+DE+LÒRIA+FRONTERA+...</td>\n",
       "    </tr>\n",
       "  </tbody>\n",
       "</table>\n",
       "</div>"
      ],
      "text/plain": [
       "   Country Reference Code              CustomsOfficeUsualName  \\\n",
       "0  Andorra       AD000001  CUSTOMS OFFICE SANT JULIÀ DE LÒRIA   \n",
       "1  Andorra       AD000001        ADUANA DE ST. JULIÀ DE LÒRIA   \n",
       "\n",
       "                  City     StreetAndNumber  \\\n",
       "0  SANT JULIÀ DE LÒRIA    RIU RUNER BORDER   \n",
       "1  SANT JULIÀ DE LÒRIA  FRONTERA RIU RUNER   \n",
       "\n",
       "                                               Union  \\\n",
       "0  CUSTOMS OFFICE SANT JULIÀ DE LÒRIA,SANT JULIÀ ...   \n",
       "1  ADUANA DE ST. JULIÀ DE LÒRIA,SANT JULIÀ DE LÒR...   \n",
       "\n",
       "                         CustomsOfficeUsualNameSorgu  \n",
       "0  Andorra+CUSTOMS+OFFICE+SANT+JULIÀ+DE+LÒRIA+RIU...  \n",
       "1  Andorra+ADUANA+DE+ST.+JULIÀ+DE+LÒRIA+FRONTERA+...  "
      ]
     },
     "execution_count": 96,
     "metadata": {},
     "output_type": "execute_result"
    }
   ],
   "source": [
    "### The list of custom offices informations\n",
    "### for the api request a arrange the adresses in excel function =SUBSTITUTE(row;\" \";\"+\")\n",
    "Custom_Office_List=pd.read_excel(r\"...........Python\\Custom Office Informations.xlsx\")\n",
    "Custom_Office_List.head(2)"
   ]
  },
  {
   "cell_type": "code",
   "execution_count": 97,
   "id": "ff1575d8-ff11-4158-ad92-ae1bdc104e0e",
   "metadata": {},
   "outputs": [],
   "source": [
    "# for the specific request i arrange the list\n",
    "Custom_Office_List1=Custom_Office_List.iloc[20:30]"
   ]
  },
  {
   "cell_type": "code",
   "execution_count": 98,
   "id": "30dbce2c-74c8-474c-a7de-3cebe7e7efb5",
   "metadata": {},
   "outputs": [
    {
     "data": {
      "text/plain": [
       "(10, 7)"
      ]
     },
     "execution_count": 98,
     "metadata": {},
     "output_type": "execute_result"
    }
   ],
   "source": [
    "Custom_Office_List1.shape"
   ]
  },
  {
   "cell_type": "code",
   "execution_count": 94,
   "id": "ccee1235-6c69-4dff-9ae2-70f71e1509ad",
   "metadata": {},
   "outputs": [],
   "source": [
    "### you need to add your api key\n",
    "Custom_Office_List1['URL'] = 'https://maps.googleapis.com/maps/api/geocode/json?address=' + Custom_Office_List1['CustomsOfficeUsualNameSorgu'] +'&key=xxxx'"
   ]
  },
  {
   "cell_type": "code",
   "execution_count": 95,
   "id": "4890c002-2bae-4548-afda-11ca87752fad",
   "metadata": {},
   "outputs": [
    {
     "data": {
      "text/plain": [
       "https://maps.googleapis.com/maps/api/geocode/json?address=Finlandiya+NIIRALA+Rajantie+821&key=xxxx                           2\n",
       "https://maps.googleapis.com/maps/api/geocode/json?address=Finlandiya+Rauma+Hakunintie+28&key=xxxx                            2\n",
       "https://maps.googleapis.com/maps/api/geocode/json?address=Finlandiya+VAALIMAA+VAALIMAANTIE+2990&key=xxxx                     2\n",
       "https://maps.googleapis.com/maps/api/geocode/json?address=Finlandiya+Mariehamn+Tull+Hamnterminal+Hamngatan+PB40&key=xxxx     2\n",
       "https://maps.googleapis.com/maps/api/geocode/json?address=Fransa+Amiens+bureau+16+Avenue+Roger+Dumoulin+BP+58801&key=xxxx    1\n",
       "                                                                                                                            ..\n",
       "https://maps.googleapis.com/maps/api/geocode/json?address=Finlandiya+Uusikaupunki+Tulli+Satamantie+9&key=xxxx                1\n",
       "https://maps.googleapis.com/maps/api/geocode/json?address=Finlandiya+Nystad+Tull+Hamnvägen+9&key=xxxx                        1\n",
       "https://maps.googleapis.com/maps/api/geocode/json?address=Finlandiya+Pori+Tulli+Merisatamantie+4&key=xxxx                    1\n",
       "https://maps.googleapis.com/maps/api/geocode/json?address=Finlandiya+Pori+Tull+Merisatamantie+4&key=xxxx                     1\n",
       "https://maps.googleapis.com/maps/api/geocode/json?address=Fransa+Orly+aero+bureau+16+RUE+L.+BLÉRIOT+BAT+548&key=xxxx         1\n",
       "Name: URL, Length: 196, dtype: int64"
      ]
     },
     "execution_count": 95,
     "metadata": {},
     "output_type": "execute_result"
    }
   ],
   "source": [
    "Custom_Office_List1['URL'].value_counts()"
   ]
  },
  {
   "cell_type": "code",
   "execution_count": 89,
   "id": "c910096b-eb02-499e-bbb1-9aff18a2aaa2",
   "metadata": {},
   "outputs": [
    {
     "name": "stderr",
     "output_type": "stream",
     "text": [
      "C:\\Users\\merve.ozdemir\\AppData\\Local\\Temp\\ipykernel_25504\\3307954822.py:1: SettingWithCopyWarning: \n",
      "A value is trying to be set on a copy of a slice from a DataFrame.\n",
      "Try using .loc[row_indexer,col_indexer] = value instead\n",
      "\n",
      "See the caveats in the documentation: https://pandas.pydata.org/pandas-docs/stable/user_guide/indexing.html#returning-a-view-versus-a-copy\n",
      "  Gümrük_listesi1.at[ :,'lat'] = \" \"\n"
     ]
    }
   ],
   "source": [
    "Custom_Office_List1.at[ :,'lat'] = \" \"\n"
   ]
  },
  {
   "cell_type": "code",
   "execution_count": 90,
   "id": "f299c9a6-49df-4d82-957f-c4913566b9c5",
   "metadata": {},
   "outputs": [
    {
     
     ]
    }
   ],
   "source": [
    "Custom_Office_List1.at[ :,'lng'] = \" \""
   ]
  },
  {
   "cell_type": "code",
   "execution_count": 91,
   "id": "894e9c27-dd97-457d-bd56-4e348c20d783",
   "metadata": {},
   "outputs": [],
   "source": [
    "### in spesific request in order to for loop work accurate i reset indexes\n",
    "Custom_Office_List1=Custom_Office_List1.reset_index()\n",
    "del Custom_Office_List1['index']"
   ]
  },
  {
   "cell_type": "code",
   "execution_count": 92,
   "id": "b38b84d6-dfa1-40f1-87f4-d35e52416744",
   "metadata": {},
   "outputs": [],
   "source": [
    " ## this write lattitude and longitute values in dataframe\n",
    "    for i,row in Custom_Office_List1.iterrows():\n",
    "    response  = requests.get(Custom_Office_List1.loc[i, 'URL'])\n",
    "    parse_json = json.loads(response.text)\n",
    "    Custom_Office_List1.iloc[i:i+1,9:10] = parse_json['results'][0][\"geometry\"][\"location\"][\"lat\"]\n",
    "    Custom_Office_List1.iloc[i:i+1,10:11] = parse_json['results'][0][\"geometry\"][\"location\"][\"lng\"]"
   ]
  },
  {
   "cell_type": "code",
   "execution_count": 93,
   "id": "e2431884-7c0a-4e5c-8054-056c7031ed9c",
   "metadata": {},
   "outputs": [],
   "source": [
    "with pd.ExcelWriter(\"Coordinates.xlsx\") as writer:\n",
    "    Custom_Office_List1.to_excel(writer)  "
   ]
  },
  {
   "cell_type": "code",
   "execution_count": null,
   "id": "51d6b0aa-77c1-4de2-9350-c445492da5a5",
   "metadata": {},
   "outputs": [],
   "source": []
  }
 ],
 "metadata": {
  "kernelspec": {
   "display_name": "Python 3 (ipykernel)",
   "language": "python",
   "name": "python3"
  },
  "language_info": {
   "codemirror_mode": {
    "name": "ipython",
    "version": 3
   },
   "file_extension": ".py",
   "mimetype": "text/x-python",
   "name": "python",
   "nbconvert_exporter": "python",
   "pygments_lexer": "ipython3",
   "version": "3.9.12"
  }
 },
 "nbformat": 4,
 "nbformat_minor": 5
}
